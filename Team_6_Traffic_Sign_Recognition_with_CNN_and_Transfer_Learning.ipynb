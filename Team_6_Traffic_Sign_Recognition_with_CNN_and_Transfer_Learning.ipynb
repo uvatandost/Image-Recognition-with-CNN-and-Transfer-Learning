{
  "nbformat": 4,
  "nbformat_minor": 0,
  "metadata": {
    "colab": {
      "name": "Team 6 Traffic Sign Recognition with CNN and Transfer Learning.ipynb",
      "provenance": [],
      "collapsed_sections": []
    },
    "kernelspec": {
      "name": "python3",
      "display_name": "Python 3"
    },
    "language_info": {
      "name": "python"
    },
    "accelerator": "GPU"
  },
  "cells": [
    {
      "cell_type": "markdown",
      "metadata": {
        "id": "K_vdPGGebsnx"
      },
      "source": [
        "# Traffic Sign Image Recognition\n",
        "## ML2 Team 6\n",
        "#### Read Dataset from Kaggle"
      ]
    },
    {
      "cell_type": "code",
      "metadata": {
        "colab": {
          "base_uri": "https://localhost:8080/"
        },
        "id": "Diy20xS1Qr9I",
        "outputId": "eee75806-75cc-4cbd-9738-a42d800e78ad"
      },
      "source": [
        "! pip install kaggle"
      ],
      "execution_count": null,
      "outputs": [
        {
          "output_type": "stream",
          "text": [
            "Requirement already satisfied: kaggle in /usr/local/lib/python3.7/dist-packages (1.5.12)\n",
            "Requirement already satisfied: urllib3 in /usr/local/lib/python3.7/dist-packages (from kaggle) (1.24.3)\n",
            "Requirement already satisfied: requests in /usr/local/lib/python3.7/dist-packages (from kaggle) (2.23.0)\n",
            "Requirement already satisfied: six>=1.10 in /usr/local/lib/python3.7/dist-packages (from kaggle) (1.15.0)\n",
            "Requirement already satisfied: python-dateutil in /usr/local/lib/python3.7/dist-packages (from kaggle) (2.8.1)\n",
            "Requirement already satisfied: certifi in /usr/local/lib/python3.7/dist-packages (from kaggle) (2021.5.30)\n",
            "Requirement already satisfied: python-slugify in /usr/local/lib/python3.7/dist-packages (from kaggle) (5.0.2)\n",
            "Requirement already satisfied: tqdm in /usr/local/lib/python3.7/dist-packages (from kaggle) (4.41.1)\n",
            "Requirement already satisfied: text-unidecode>=1.3 in /usr/local/lib/python3.7/dist-packages (from python-slugify->kaggle) (1.3)\n",
            "Requirement already satisfied: chardet<4,>=3.0.2 in /usr/local/lib/python3.7/dist-packages (from requests->kaggle) (3.0.4)\n",
            "Requirement already satisfied: idna<3,>=2.5 in /usr/local/lib/python3.7/dist-packages (from requests->kaggle) (2.10)\n"
          ],
          "name": "stdout"
        }
      ]
    },
    {
      "cell_type": "code",
      "metadata": {
        "id": "6uW3aHeVQ6G9"
      },
      "source": [
        "! mkdir ~/.kaggle"
      ],
      "execution_count": null,
      "outputs": []
    },
    {
      "cell_type": "code",
      "metadata": {
        "id": "mS6xzCdGQ9OE"
      },
      "source": [
        "! cp kaggle.json ~/.kaggle/"
      ],
      "execution_count": null,
      "outputs": []
    },
    {
      "cell_type": "code",
      "metadata": {
        "id": "xKWhlgLtbm6f"
      },
      "source": [
        "#!mkdir ~/.kaggle\n",
        "!cp /kaggle.json ~/.kaggle/kaggle.json"
      ],
      "execution_count": null,
      "outputs": []
    },
    {
      "cell_type": "code",
      "metadata": {
        "id": "TeDIAOMIQ_ii"
      },
      "source": [
        "! chmod 600 ~/.kaggle/kaggle.json"
      ],
      "execution_count": null,
      "outputs": []
    },
    {
      "cell_type": "code",
      "metadata": {
        "colab": {
          "base_uri": "https://localhost:8080/"
        },
        "id": "Nmjhe4CWReuu",
        "outputId": "a909b163-ed54-4f9d-a32a-fe15a73cc75c"
      },
      "source": [
        "! kaggle datasets download meowmeowmeowmeowmeow/gtsrb-german-traffic-sign "
      ],
      "execution_count": null,
      "outputs": [
        {
          "output_type": "stream",
          "text": [
            "Downloading gtsrb-german-traffic-sign.zip to /content\n",
            " 99% 607M/612M [00:06<00:00, 95.2MB/s]\n",
            "100% 612M/612M [00:06<00:00, 97.9MB/s]\n"
          ],
          "name": "stdout"
        }
      ]
    },
    {
      "cell_type": "code",
      "metadata": {
        "id": "MCNQM-tjS7WJ"
      },
      "source": [
        "! unzip gtsrb-german-traffic-sign"
      ],
      "execution_count": null,
      "outputs": []
    },
    {
      "cell_type": "markdown",
      "metadata": {
        "id": "qcCYkk2mVKcq"
      },
      "source": [
        "# Load The Datasets (Train and Test)"
      ]
    },
    {
      "cell_type": "code",
      "metadata": {
        "id": "XnnVv9M1TGwp"
      },
      "source": [
        "import numpy as np\n",
        "import pandas as pd\n",
        "import matplotlib.pyplot as plt\n",
        "import tensorflow as tf\n",
        "from PIL import Image\n",
        "import os\n",
        "from sklearn.model_selection import train_test_split\n",
        "from tensorflow.keras.utils import to_categorical\n",
        "from tensorflow.keras.models import Sequential\n",
        "from tensorflow.keras.layers import Conv2D, MaxPool2D, Dense, Flatten, Dropout\n",
        "\n",
        "data = []\n",
        "labels = []\n",
        "classes = 43\n",
        "cur_path = os.getcwd()\n",
        "\n",
        "for i in range(classes):\n",
        "  path = os.path.join(cur_path, 'train', str(i))\n",
        "  images = os.listdir(path)\n",
        "\n",
        "  for a in images:\n",
        "    # try:\n",
        "    image = Image.open(path + '/' + a)\n",
        "    image = image.resize((30,30)) #resize images into 30x30\n",
        "    image = np.array(image)\n",
        "    data.append(image)\n",
        "    labels.append(i)\n",
        "    # except:\n",
        "    #   print(\"Error loading image \" + str(i))\n",
        "data = np.array(data)\n",
        "labels = np.array(labels)\n",
        "\n"
      ],
      "execution_count": null,
      "outputs": []
    },
    {
      "cell_type": "code",
      "metadata": {
        "colab": {
          "base_uri": "https://localhost:8080/"
        },
        "id": "4uPsD39HXdrt",
        "outputId": "6e3cc076-20b2-48e8-db38-40cfa9900f39"
      },
      "source": [
        "print(data.shape)\n",
        "print(labels.shape)"
      ],
      "execution_count": null,
      "outputs": [
        {
          "output_type": "stream",
          "text": [
            "(39209, 30, 30, 3)\n",
            "(39209,)\n"
          ],
          "name": "stdout"
        }
      ]
    },
    {
      "cell_type": "markdown",
      "metadata": {
        "id": "dv_TRW0tBE2N"
      },
      "source": [
        "# EDA"
      ]
    },
    {
      "cell_type": "code",
      "metadata": {
        "colab": {
          "base_uri": "https://localhost:8080/",
          "height": 402
        },
        "id": "tkhT6h-eBD8A",
        "outputId": "b1388aab-0a7c-4155-d750-d4f005501250"
      },
      "source": [
        "# Label Overview\n",
        "classes = { 0:'Speed limit (20km/h)',\n",
        "            1:'Speed limit (30km/h)', \n",
        "            2:'Speed limit (50km/h)', \n",
        "            3:'Speed limit (60km/h)', \n",
        "            4:'Speed limit (70km/h)', \n",
        "            5:'Speed limit (80km/h)', \n",
        "            6:'End of speed limit (80km/h)', \n",
        "            7:'Speed limit (100km/h)', \n",
        "            8:'Speed limit (120km/h)', \n",
        "            9:'No passing', \n",
        "            10:'No passing veh over 3.5 tons', \n",
        "            11:'Right-of-way at intersection', \n",
        "            12:'Priority road', \n",
        "            13:'Yield', \n",
        "            14:'Stop', \n",
        "            15:'No vehicles', \n",
        "            16:'Veh > 3.5 tons prohibited', \n",
        "            17:'No entry', \n",
        "            18:'General caution', \n",
        "            19:'Dangerous curve left', \n",
        "            20:'Dangerous curve right', \n",
        "            21:'Double curve', \n",
        "            22:'Bumpy road', \n",
        "            23:'Slippery road', \n",
        "            24:'Road narrows on the right', \n",
        "            25:'Road work', \n",
        "            26:'Traffic signals', \n",
        "            27:'Pedestrians', \n",
        "            28:'Children crossing', \n",
        "            29:'Bicycles crossing', \n",
        "            30:'Beware of ice/snow',\n",
        "            31:'Wild animals crossing', \n",
        "            32:'End speed + passing limits', \n",
        "            33:'Turn right ahead', \n",
        "            34:'Turn left ahead', \n",
        "            35:'Ahead only', \n",
        "            36:'Go straight or right', \n",
        "            37:'Go straight or left', \n",
        "            38:'Keep right', \n",
        "            39:'Keep left', \n",
        "            40:'Roundabout mandatory', \n",
        "            41:'End of no passing', \n",
        "            42:'End no passing veh > 3.5 tons' }\n",
        "            \n",
        "train_path = \"/content/Train\"\n",
        "folders = os.listdir(train_path)\n",
        "\n",
        "train_number = []\n",
        "class_num = []\n",
        "\n",
        "for folder in folders:\n",
        "    train_files = os.listdir(train_path + '/' + folder)\n",
        "    train_number.append(len(train_files))\n",
        "    class_num.append(classes[int(folder)])\n",
        "    \n",
        "# Sorting the dataset on the basis of number of images in each class\n",
        "zipped_lists = zip(train_number, class_num)\n",
        "sorted_pairs = sorted(zipped_lists)\n",
        "tuples = zip(*sorted_pairs)\n",
        "train_number, class_num = [ list(tuple) for tuple in  tuples]\n",
        "\n",
        "# Plotting the number of images in each class\n",
        "plt.figure(figsize=(21,10))  \n",
        "plt.bar(class_num, train_number)\n",
        "plt.xticks(class_num, rotation='vertical', size=10)\n",
        "plt.title('Number of images in each class', size=30)\n",
        "plt.show()"
      ],
      "execution_count": null,
      "outputs": [
        {
          "output_type": "display_data",
          "data": {
            "image/png": "[encoded data removed]",
            "text/plain": [
              "<Figure size 1512x720 with 1 Axes>"
            ]
          },
          "metadata": {
            "tags": [],
            "needs_background": "light"
          }
        }
      ]
    },
    {
      "cell_type": "code",
      "metadata": {
        "colab": {
          "base_uri": "https://localhost:8080/"
        },
        "id": "q3ZTtKZHC22K",
        "outputId": "3141910d-06ed-48d0-ce7a-0febe28d53ea"
      },
      "source": [
        "class_num"
      ],
      "execution_count": null,
      "outputs": [
        {
          "output_type": "execute_result",
          "data": {
            "text/plain": [
              "['Dangerous curve left',\n",
              " 'Go straight or left',\n",
              " 'Speed limit (20km/h)',\n",
              " 'End no passing veh > 3.5 tons',\n",
              " 'End of no passing',\n",
              " 'End speed + passing limits',\n",
              " 'Pedestrians',\n",
              " 'Bicycles crossing',\n",
              " 'Road narrows on the right',\n",
              " 'Keep left',\n",
              " 'Double curve',\n",
              " 'Dangerous curve right',\n",
              " 'Roundabout mandatory',\n",
              " 'Bumpy road',\n",
              " 'Go straight or right',\n",
              " 'End of speed limit (80km/h)',\n",
              " 'Turn left ahead',\n",
              " 'Veh > 3.5 tons prohibited',\n",
              " 'Beware of ice/snow',\n",
              " 'Slippery road',\n",
              " 'Children crossing',\n",
              " 'Traffic signals',\n",
              " 'No vehicles',\n",
              " 'Turn right ahead',\n",
              " 'Stop',\n",
              " 'Wild animals crossing',\n",
              " 'No entry',\n",
              " 'Ahead only',\n",
              " 'General caution',\n",
              " 'Right-of-way at intersection',\n",
              " 'Speed limit (120km/h)',\n",
              " 'Speed limit (60km/h)',\n",
              " 'Speed limit (100km/h)',\n",
              " 'No passing',\n",
              " 'Road work',\n",
              " 'Speed limit (80km/h)',\n",
              " 'Speed limit (70km/h)',\n",
              " 'No passing veh over 3.5 tons',\n",
              " 'Keep right',\n",
              " 'Priority road',\n",
              " 'Yield',\n",
              " 'Speed limit (30km/h)',\n",
              " 'Speed limit (50km/h)']"
            ]
          },
          "metadata": {
            "tags": []
          },
          "execution_count": 11
        }
      ]
    },
    {
      "cell_type": "markdown",
      "metadata": {
        "id": "4cPff3G2Xt_p"
      },
      "source": [
        "## Split into Train and Test"
      ]
    },
    {
      "cell_type": "code",
      "metadata": {
        "colab": {
          "base_uri": "https://localhost:8080/"
        },
        "id": "O1cuf_bgXqM5",
        "outputId": "6833a60e-b019-417b-fd69-03fd33cf53b5"
      },
      "source": [
        "#split into train and test\n",
        "X_train, X_test, y_train, y_test = train_test_split(data, labels, test_size=0.2, random_state=123)\n",
        "\n",
        "\n",
        "\n",
        "#one hot encode outputs\n",
        "y_train = to_categorical(y_train, 43)\n",
        "y_test = to_categorical(y_test, 43)\n",
        "num_classes = y_test.shape[1]\n",
        "\n",
        "print(X_train.shape, X_test.shape, y_train.shape, y_test.shape, num_classes)\n"
      ],
      "execution_count": null,
      "outputs": [
        {
          "output_type": "stream",
          "text": [
            "(31367, 30, 30, 3) (7842, 30, 30, 3) (31367, 43) (7842, 43) 43\n"
          ],
          "name": "stdout"
        }
      ]
    },
    {
      "cell_type": "markdown",
      "metadata": {
        "id": "bZY5MY0sY5t1"
      },
      "source": [
        "# Image Classification"
      ]
    },
    {
      "cell_type": "markdown",
      "metadata": {
        "id": "Eu5x9l4oZCOG"
      },
      "source": [
        "## CNN"
      ]
    },
    {
      "cell_type": "code",
      "metadata": {
        "id": "xVNjTqq1Y4yj"
      },
      "source": [
        "from tensorflow.keras.layers import Activation\n",
        "from tensorflow.keras.layers import BatchNormalization\n",
        "from keras import optimizers\n",
        "from keras import backend as K\n",
        "\n",
        "model = Sequential()\n",
        "\n",
        "model.add(Conv2D(32, (3, 3), input_shape=(30,30,3)))\n",
        "model.add(Activation('relu'))\n",
        "BatchNormalization(axis=-1)\n",
        "model.add(Conv2D(32, (3, 3)))\n",
        "model.add(Activation('relu'))\n",
        "model.add(MaxPool2D(pool_size=(2,2)))\n",
        "\n",
        "BatchNormalization(axis=-1)\n",
        "model.add(Conv2D(64,(3, 3)))\n",
        "model.add(Activation('relu'))\n",
        "BatchNormalization(axis=-1)\n",
        "model.add(Conv2D(64, (3, 3)))\n",
        "model.add(Activation('relu'))\n",
        "model.add(MaxPool2D(pool_size=(2,2)))\n",
        "\n",
        "model.add(Flatten())\n",
        "# Fully connected layer\n",
        "\n",
        "BatchNormalization()\n",
        "model.add(Dense(512))\n",
        "model.add(Activation('relu'))\n",
        "BatchNormalization()\n",
        "model.add(Dropout(0.2))\n",
        "model.add(Dense(num_classes))\n",
        "\n",
        "model.add(Activation('softmax'))"
      ],
      "execution_count": null,
      "outputs": []
    },
    {
      "cell_type": "code",
      "metadata": {
        "id": "bjkq-zyPau7i",
        "colab": {
          "base_uri": "https://localhost:8080/"
        },
        "outputId": "72c2d7b9-21eb-48f3-aaed-4bf7a5869139"
      },
      "source": [
        "model.compile(loss='categorical_crossentropy', optimizer='adam',  metrics=['accuracy'])\n",
        "print(model.summary())\n",
        "hist = model.fit(X_train, y_train, batch_size=128, epochs=10, validation_split=.25)\n",
        "score = model.evaluate(X_test, y_test)\n",
        "\n",
        "print('Test loss:', score[0])\n",
        "print('Test accuracy:', score[1])"
      ],
      "execution_count": null,
      "outputs": [
        {
          "output_type": "stream",
          "text": [
            "Model: \"sequential\"\n",
            "_________________________________________________________________\n",
            "Layer (type)                 Output Shape              Param #   \n",
            "=================================================================\n",
            "conv2d (Conv2D)              (None, 28, 28, 32)        896       \n",
            "_________________________________________________________________\n",
            "activation (Activation)      (None, 28, 28, 32)        0         \n",
            "_________________________________________________________________\n",
            "conv2d_1 (Conv2D)            (None, 26, 26, 32)        9248      \n",
            "_________________________________________________________________\n",
            "activation_1 (Activation)    (None, 26, 26, 32)        0         \n",
            "_________________________________________________________________\n",
            "max_pooling2d (MaxPooling2D) (None, 13, 13, 32)        0         \n",
            "_________________________________________________________________\n",
            "conv2d_2 (Conv2D)            (None, 11, 11, 64)        18496     \n",
            "_________________________________________________________________\n",
            "activation_2 (Activation)    (None, 11, 11, 64)        0         \n",
            "_________________________________________________________________\n",
            "conv2d_3 (Conv2D)            (None, 9, 9, 64)          36928     \n",
            "_________________________________________________________________\n",
            "activation_3 (Activation)    (None, 9, 9, 64)          0         \n",
            "_________________________________________________________________\n",
            "max_pooling2d_1 (MaxPooling2 (None, 4, 4, 64)          0         \n",
            "_________________________________________________________________\n",
            "flatten (Flatten)            (None, 1024)              0         \n",
            "_________________________________________________________________\n",
            "dense (Dense)                (None, 512)               524800    \n",
            "_________________________________________________________________\n",
            "activation_4 (Activation)    (None, 512)               0         \n",
            "_________________________________________________________________\n",
            "dropout (Dropout)            (None, 512)               0         \n",
            "_________________________________________________________________\n",
            "dense_1 (Dense)              (None, 43)                22059     \n",
            "_________________________________________________________________\n",
            "activation_5 (Activation)    (None, 43)                0         \n",
            "=================================================================\n",
            "Total params: 612,427\n",
            "Trainable params: 612,427\n",
            "Non-trainable params: 0\n",
            "_________________________________________________________________\n",
            "None\n",
            "Epoch 1/10\n",
            "184/184 [==============================] - 34s 12ms/step - loss: 1.4853 - accuracy: 0.7078 - val_loss: 0.2338 - val_accuracy: 0.9401\n",
            "Epoch 2/10\n",
            "184/184 [==============================] - 2s 9ms/step - loss: 0.1767 - accuracy: 0.9567 - val_loss: 0.1033 - val_accuracy: 0.9782\n",
            "Epoch 3/10\n",
            "184/184 [==============================] - 2s 9ms/step - loss: 0.0837 - accuracy: 0.9795 - val_loss: 0.0498 - val_accuracy: 0.9887\n",
            "Epoch 4/10\n",
            "184/184 [==============================] - 2s 10ms/step - loss: 0.0623 - accuracy: 0.9820 - val_loss: 0.0634 - val_accuracy: 0.9853\n",
            "Epoch 5/10\n",
            "184/184 [==============================] - 2s 9ms/step - loss: 0.0436 - accuracy: 0.9886 - val_loss: 0.0556 - val_accuracy: 0.9885\n",
            "Epoch 6/10\n",
            "184/184 [==============================] - 2s 9ms/step - loss: 0.0473 - accuracy: 0.9884 - val_loss: 0.0516 - val_accuracy: 0.9883\n",
            "Epoch 7/10\n",
            "184/184 [==============================] - 2s 9ms/step - loss: 0.0275 - accuracy: 0.9929 - val_loss: 0.0768 - val_accuracy: 0.9853\n",
            "Epoch 8/10\n",
            "184/184 [==============================] - 2s 9ms/step - loss: 0.0213 - accuracy: 0.9939 - val_loss: 0.0458 - val_accuracy: 0.9909\n",
            "Epoch 9/10\n",
            "184/184 [==============================] - 2s 9ms/step - loss: 0.0201 - accuracy: 0.9949 - val_loss: 0.0429 - val_accuracy: 0.9915\n",
            "Epoch 10/10\n",
            "184/184 [==============================] - 2s 9ms/step - loss: 0.0166 - accuracy: 0.9964 - val_loss: 0.0552 - val_accuracy: 0.9903\n",
            "246/246 [==============================] - 1s 3ms/step - loss: 0.0560 - accuracy: 0.9884\n",
            "Test loss: 0.056009575724601746\n",
            "Test accuracy: 0.9883958101272583\n"
          ],
          "name": "stdout"
        }
      ]
    },
    {
      "cell_type": "code",
      "metadata": {
        "id": "tjUnLucRoBXR"
      },
      "source": [
        ""
      ],
      "execution_count": null,
      "outputs": []
    },
    {
      "cell_type": "code",
      "metadata": {
        "colab": {
          "base_uri": "https://localhost:8080/"
        },
        "id": "7gUwNMIOeKcw",
        "outputId": "d0c0cc48-f107-4242-bf01-6582df9e98e9"
      },
      "source": [
        "score"
      ],
      "execution_count": null,
      "outputs": [
        {
          "output_type": "execute_result",
          "data": {
            "text/plain": [
              "[0.056009575724601746, 0.9883958101272583]"
            ]
          },
          "metadata": {
            "tags": []
          },
          "execution_count": 15
        }
      ]
    },
    {
      "cell_type": "markdown",
      "metadata": {
        "id": "rkKEU-GPMhPF"
      },
      "source": [
        "When run with 10 epochs, the accuracy increased up until epoch 8. After which it started reducing. "
      ]
    },
    {
      "cell_type": "code",
      "metadata": {
        "id": "BKpn3RLZRt79",
        "colab": {
          "base_uri": "https://localhost:8080/",
          "height": 295
        },
        "outputId": "5e75f2fe-9675-43c5-ed55-fe50e16bac9f"
      },
      "source": [
        "import matplotlib.pyplot as plt\n",
        "plt.subplot(1,2,1)\n",
        "plt.plot(hist.history['accuracy'])\n",
        "plt.plot(hist.history['val_accuracy'])\n",
        "plt.title('model accuracy')\n",
        "plt.ylabel('accuracy')\n",
        "plt.xlabel('epoch')\n",
        "plt.legend(['train', 'test'], loc='lower right')\n",
        "\n",
        "plt.subplot(1,2,2)\n",
        "plt.plot(hist.history['loss'])\n",
        "plt.plot(hist.history['val_loss'])\n",
        "plt.title('model loss')\n",
        "plt.ylabel('loss')\n",
        "plt.xlabel('epoch')\n",
        "plt.legend(['train', 'test'], loc='upper right')\n",
        "\n",
        "plt.show()"
      ],
      "execution_count": null,
      "outputs": [
        {
          "output_type": "display_data",
          "data": {
            "image/png": "[encoded data removed]",
            "text/plain": [
              "<Figure size 432x288 with 2 Axes>"
            ]
          },
          "metadata": {
            "tags": [],
            "needs_background": "light"
          }
        }
      ]
    },
    {
      "cell_type": "code",
      "metadata": {
        "id": "0stbOc4TclYG"
      },
      "source": [
        ""
      ],
      "execution_count": null,
      "outputs": []
    },
    {
      "cell_type": "markdown",
      "metadata": {
        "id": "vIi2KtGhnZST"
      },
      "source": [
        "# Transfer Learning\n"
      ]
    },
    {
      "cell_type": "code",
      "metadata": {
        "id": "tAJmoSo6DXry"
      },
      "source": [
        "#need images to at least be 32x32 for resnet50 input\n",
        "data = []\n",
        "labels = []\n",
        "classes = 43\n",
        "cur_path = os.getcwd()\n",
        "\n",
        "for i in range(classes):\n",
        "  path = os.path.join(cur_path, 'train', str(i))\n",
        "  images = os.listdir(path)\n",
        "\n",
        "  for a in images:\n",
        "    # try:\n",
        "    image = Image.open(path + '/' + a)\n",
        "    image = image.resize((32,32)) #resize images into 30x30\n",
        "    image = np.array(image)\n",
        "    data.append(image)\n",
        "    labels.append(i)\n",
        "    # except:\n",
        "    #   print(\"Error loading image \" + str(i))\n",
        "data = np.array(data)\n",
        "labels = np.array(labels)"
      ],
      "execution_count": null,
      "outputs": []
    },
    {
      "cell_type": "markdown",
      "metadata": {
        "id": "0c1CrkttnQXu"
      },
      "source": [
        "# Split Dataset into Train and Test"
      ]
    },
    {
      "cell_type": "code",
      "metadata": {
        "colab": {
          "base_uri": "https://localhost:8080/"
        },
        "id": "a-SfpBGfnTWa",
        "outputId": "ab88cdcf-3f22-488a-eea9-6491cf89cd90"
      },
      "source": [
        "#split into train and test\n",
        "X_train, X_test, y_train, y_test = train_test_split(data, labels, test_size=0.2, random_state=123)\n",
        "\n",
        "#one hot encode outputs\n",
        "y_train = to_categorical(y_train, 43)\n",
        "y_test = to_categorical(y_test, 43)\n",
        "num_classes = y_test.shape[1]\n",
        "\n",
        "print(X_train.shape, X_test.shape, y_train.shape, y_test.shape, num_classes)"
      ],
      "execution_count": null,
      "outputs": [
        {
          "output_type": "stream",
          "text": [
            "(31367, 32, 32, 3) (7842, 32, 32, 3) (31367, 43) (7842, 43) 43\n"
          ],
          "name": "stdout"
        }
      ]
    },
    {
      "cell_type": "markdown",
      "metadata": {
        "id": "kTGh_F52nge4"
      },
      "source": [
        "**4 Steps**\n",
        "\n",
        "\n",
        "1.   Instantiate base model & load pre-trained weights\n",
        "2.   Freeze all layers in base model\n",
        "3.   Create new model on top of the output of layer(s) from base model\n",
        "4.   Train new model on new dataset\n",
        "\n",
        "reference: https://colab.research.google.com/github/keras-team/keras-io/blob/master/guides/ipynb/transfer_learning.ipynb#scrollTo=wIfKhaLqaiQ_\n"
      ]
    },
    {
      "cell_type": "markdown",
      "metadata": {
        "id": "QEpozTmSpB31"
      },
      "source": [
        "**Instantiate Base Model**"
      ]
    },
    {
      "cell_type": "code",
      "metadata": {
        "id": "bd_NDiWSpGoa"
      },
      "source": [
        "from tensorflow import keras\n",
        "base_model = keras.applications.ResNet50(\n",
        "    include_top=False, #exclude ImageNet classifier layer at the top\n",
        "    input_shape=(32,32,3),\n",
        "    weights='imagenet' #load weights pretrained on ImageNet\n",
        ")"
      ],
      "execution_count": null,
      "outputs": []
    },
    {
      "cell_type": "markdown",
      "metadata": {
        "id": "pOUOFvnMpw7j"
      },
      "source": [
        "**Freeze Layers in Base Model**"
      ]
    },
    {
      "cell_type": "code",
      "metadata": {
        "id": "UycOSBD_pv6U"
      },
      "source": [
        "base_model.trainable = False"
      ],
      "execution_count": null,
      "outputs": []
    },
    {
      "cell_type": "markdown",
      "metadata": {
        "id": "hJpLlx-1qEZr"
      },
      "source": [
        "**Create New Model on Top of Base Model**"
      ]
    },
    {
      "cell_type": "code",
      "metadata": {
        "colab": {
          "base_uri": "https://localhost:8080/"
        },
        "id": "i85Hx51_qME-",
        "outputId": "db566b66-7089-445c-a8ec-549b1995eb79"
      },
      "source": [
        "from tensorflow.keras.layers import Activation\n",
        "from tensorflow.keras.layers import BatchNormalization\n",
        "from keras import optimizers\n",
        "from keras import backend as K\n",
        "from keras import layers\n",
        "\n",
        "# Create new model on top\n",
        "inputs = keras.Input(shape=(32,32,3))\n",
        "x = base_model(inputs, training=False)\n",
        "x = keras.layers.GlobalAveragePooling2D()(x)\n",
        "x = keras.layers.Dropout(0.2)(x)  # Regularize with dropout\n",
        "outputs = keras.layers.Dense(num_classes, activation='softmax')(x)\n",
        "model = keras.Model(inputs, outputs)\n",
        "\n",
        "\n",
        "model.summary()"
      ],
      "execution_count": null,
      "outputs": [
        {
          "output_type": "stream",
          "text": [
            "Model: \"model\"\n",
            "_________________________________________________________________\n",
            "Layer (type)                 Output Shape              Param #   \n",
            "=================================================================\n",
            "input_3 (InputLayer)         [(None, 32, 32, 3)]       0         \n",
            "_________________________________________________________________\n",
            "resnet50 (Functional)        (None, 1, 1, 2048)        23587712  \n",
            "_________________________________________________________________\n",
            "global_average_pooling2d (Gl (None, 2048)              0         \n",
            "_________________________________________________________________\n",
            "dropout_1 (Dropout)          (None, 2048)              0         \n",
            "_________________________________________________________________\n",
            "dense_2 (Dense)              (None, 43)                88107     \n",
            "=================================================================\n",
            "Total params: 23,675,819\n",
            "Trainable params: 88,107\n",
            "Non-trainable params: 23,587,712\n",
            "_________________________________________________________________\n"
          ],
          "name": "stdout"
        }
      ]
    },
    {
      "cell_type": "markdown",
      "metadata": {
        "id": "fJypGiXo1y8y"
      },
      "source": [
        "**Train the top layer**"
      ]
    },
    {
      "cell_type": "code",
      "metadata": {
        "colab": {
          "base_uri": "https://localhost:8080/"
        },
        "id": "TprMjQI413P2",
        "outputId": "d4ee211e-3fac-4d66-9ec3-ce14decc5ff3"
      },
      "source": [
        "model.compile(\n",
        "    optimizer=keras.optimizers.Adam(),\n",
        "    loss=keras.losses.CategoricalCrossentropy(),\n",
        "    metrics=[keras.metrics.CategoricalAccuracy()],\n",
        ")\n",
        "\n",
        "epochs = 10\n",
        "hist = model.fit(X_train, y_train, epochs=epochs, batch_size=128, validation_split=0.20)\n"
      ],
      "execution_count": null,
      "outputs": [
        {
          "output_type": "stream",
          "text": [
            "Epoch 1/10\n",
            "197/197 [==============================] - 10s 35ms/step - loss: 2.5297 - categorical_accuracy: 0.3998 - val_loss: 1.2399 - val_categorical_accuracy: 0.6054\n",
            "Epoch 2/10\n",
            "197/197 [==============================] - 6s 29ms/step - loss: 1.2610 - categorical_accuracy: 0.6030 - val_loss: 0.9862 - val_categorical_accuracy: 0.6822\n",
            "Epoch 3/10\n",
            "197/197 [==============================] - 6s 29ms/step - loss: 0.9215 - categorical_accuracy: 0.6972 - val_loss: 0.8369 - val_categorical_accuracy: 0.7298\n",
            "Epoch 4/10\n",
            "197/197 [==============================] - 6s 29ms/step - loss: 0.7719 - categorical_accuracy: 0.7397 - val_loss: 0.7872 - val_categorical_accuracy: 0.7437\n",
            "Epoch 5/10\n",
            "197/197 [==============================] - 6s 29ms/step - loss: 0.6939 - categorical_accuracy: 0.7626 - val_loss: 0.7115 - val_categorical_accuracy: 0.7687\n",
            "Epoch 6/10\n",
            "197/197 [==============================] - 5s 28ms/step - loss: 0.6213 - categorical_accuracy: 0.7871 - val_loss: 0.6728 - val_categorical_accuracy: 0.7800\n",
            "Epoch 7/10\n",
            "197/197 [==============================] - 5s 28ms/step - loss: 0.5647 - categorical_accuracy: 0.8049 - val_loss: 0.7159 - val_categorical_accuracy: 0.7655\n",
            "Epoch 8/10\n",
            "197/197 [==============================] - 5s 28ms/step - loss: 0.5496 - categorical_accuracy: 0.8095 - val_loss: 0.6576 - val_categorical_accuracy: 0.7909\n",
            "Epoch 9/10\n",
            "197/197 [==============================] - 5s 28ms/step - loss: 0.5005 - categorical_accuracy: 0.8258 - val_loss: 0.6820 - val_categorical_accuracy: 0.7805\n",
            "Epoch 10/10\n",
            "197/197 [==============================] - 6s 29ms/step - loss: 0.5162 - categorical_accuracy: 0.8209 - val_loss: 0.6220 - val_categorical_accuracy: 0.7995\n"
          ],
          "name": "stdout"
        }
      ]
    },
    {
      "cell_type": "markdown",
      "metadata": {
        "id": "-DN8fRUy3H16"
      },
      "source": [
        "**Evaluate and Test Model**"
      ]
    },
    {
      "cell_type": "code",
      "metadata": {
        "colab": {
          "base_uri": "https://localhost:8080/"
        },
        "id": "RnCrjqEf3Lxw",
        "outputId": "fd09756a-f2bd-4781-be7b-84f10266ea9f"
      },
      "source": [
        "score = model.evaluate(X_test, y_test)\n",
        "\n",
        "print('Test loss:', score[0])\n",
        "print('Test accuracy:', score[1])"
      ],
      "execution_count": null,
      "outputs": [
        {
          "output_type": "stream",
          "text": [
            "246/246 [==============================] - 4s 15ms/step - loss: 0.6267 - categorical_accuracy: 0.7975\n",
            "Test loss: 0.6266946196556091\n",
            "Test accuracy: 0.7975006103515625\n"
          ],
          "name": "stdout"
        }
      ]
    },
    {
      "cell_type": "code",
      "metadata": {
        "colab": {
          "base_uri": "https://localhost:8080/",
          "height": 295
        },
        "id": "gBnWTRSR3Rzf",
        "outputId": "297af096-89d6-4ac5-bb6b-bdff1737b2ce"
      },
      "source": [
        "import matplotlib.pyplot as plt\n",
        "plt.subplot(1,2,1)\n",
        "plt.plot(hist.history['categorical_accuracy'])\n",
        "plt.plot(hist.history['val_categorical_accuracy'])\n",
        "plt.title('model accuracy')\n",
        "plt.ylabel('accuracy')\n",
        "plt.xlabel('epoch')\n",
        "plt.legend(['train', 'test'], loc='lower right')\n",
        "\n",
        "plt.subplot(1,2,2)\n",
        "plt.plot(hist.history['loss'])\n",
        "plt.plot(hist.history['val_loss'])\n",
        "plt.title('model loss')\n",
        "plt.ylabel('loss')\n",
        "plt.xlabel('epoch')\n",
        "plt.legend(['train', 'test'], loc='upper right')\n",
        "\n",
        "plt.show()"
      ],
      "execution_count": null,
      "outputs": [
        {
          "output_type": "display_data",
          "data": {
            "image/png": "[encoded data removed]",
            "text/plain": [
              "<Figure size 432x288 with 2 Axes>"
            ]
          },
          "metadata": {
            "tags": [],
            "needs_background": "light"
          }
        }
      ]
    },
    {
      "cell_type": "markdown",
      "metadata": {
        "id": "92iDBOql6S6h"
      },
      "source": [
        "**Fine-tune Model**"
      ]
    },
    {
      "cell_type": "code",
      "metadata": {
        "id": "JMUGkXdy6WOP",
        "colab": {
          "base_uri": "https://localhost:8080/"
        },
        "outputId": "02d67372-4eaf-470a-9c7f-4fde6f52f4b0"
      },
      "source": [
        "#Unfreeze base model\n",
        "base_model.trainable = True\n",
        "\n",
        "#Note: the model is running in inference mode because we set `training=False` \n",
        "#meaning that the weights in the batch normalization layer in base model will not be \n",
        "#updated\n",
        "\n",
        "model.summary()\n",
        "\n",
        "#need to recompile after making change to the model\n",
        "model.compile(\n",
        "    optimizer=keras.optimizers.Adam(),\n",
        "    loss=keras.losses.CategoricalCrossentropy(),\n",
        "    metrics=[keras.metrics.CategoricalAccuracy()],\n",
        ")\n",
        "\n",
        "epochs = 10\n",
        "hist = model.fit(X_train, y_train, epochs=epochs, validation_split=0.20)\n"
      ],
      "execution_count": null,
      "outputs": [
        {
          "output_type": "stream",
          "text": [
            "Model: \"model\"\n",
            "_________________________________________________________________\n",
            "Layer (type)                 Output Shape              Param #   \n",
            "=================================================================\n",
            "input_3 (InputLayer)         [(None, 32, 32, 3)]       0         \n",
            "_________________________________________________________________\n",
            "resnet50 (Functional)        (None, 1, 1, 2048)        23587712  \n",
            "_________________________________________________________________\n",
            "global_average_pooling2d (Gl (None, 2048)              0         \n",
            "_________________________________________________________________\n",
            "dropout_1 (Dropout)          (None, 2048)              0         \n",
            "_________________________________________________________________\n",
            "dense_2 (Dense)              (None, 43)                88107     \n",
            "=================================================================\n",
            "Total params: 23,675,819\n",
            "Trainable params: 23,622,699\n",
            "Non-trainable params: 53,120\n",
            "_________________________________________________________________\n",
            "Epoch 1/10\n",
            "785/785 [==============================] - 40s 44ms/step - loss: 2.7852 - categorical_accuracy: 0.2568 - val_loss: 1.3865 - val_categorical_accuracy: 0.5249\n",
            "Epoch 2/10\n",
            "785/785 [==============================] - 35s 44ms/step - loss: 0.9844 - categorical_accuracy: 0.6530 - val_loss: 0.7282 - val_categorical_accuracy: 0.7533\n",
            "Epoch 3/10\n",
            "785/785 [==============================] - 34s 44ms/step - loss: 0.6112 - categorical_accuracy: 0.7970 - val_loss: 0.4109 - val_categorical_accuracy: 0.8669\n",
            "Epoch 4/10\n",
            "785/785 [==============================] - 34s 43ms/step - loss: 0.3869 - categorical_accuracy: 0.8811 - val_loss: 0.2676 - val_categorical_accuracy: 0.9206\n",
            "Epoch 5/10\n",
            "785/785 [==============================] - 35s 44ms/step - loss: 0.3241 - categorical_accuracy: 0.9063 - val_loss: 0.2741 - val_categorical_accuracy: 0.9142\n",
            "Epoch 6/10\n",
            "785/785 [==============================] - 34s 43ms/step - loss: 0.2506 - categorical_accuracy: 0.9286 - val_loss: 0.3039 - val_categorical_accuracy: 0.9162\n",
            "Epoch 7/10\n",
            "785/785 [==============================] - 35s 44ms/step - loss: 0.2288 - categorical_accuracy: 0.9380 - val_loss: 0.1868 - val_categorical_accuracy: 0.9541\n",
            "Epoch 8/10\n",
            "785/785 [==============================] - 34s 43ms/step - loss: 0.2252 - categorical_accuracy: 0.9397 - val_loss: 0.1440 - val_categorical_accuracy: 0.9630\n",
            "Epoch 9/10\n",
            "785/785 [==============================] - 35s 44ms/step - loss: 0.2569 - categorical_accuracy: 0.9335 - val_loss: 0.3769 - val_categorical_accuracy: 0.8934\n",
            "Epoch 10/10\n",
            "785/785 [==============================] - 34s 43ms/step - loss: 0.1829 - categorical_accuracy: 0.9517 - val_loss: 0.1820 - val_categorical_accuracy: 0.9515\n"
          ],
          "name": "stdout"
        }
      ]
    },
    {
      "cell_type": "markdown",
      "metadata": {
        "id": "8fVa_K1V73xy"
      },
      "source": [
        "**Evaluate and Test**"
      ]
    },
    {
      "cell_type": "code",
      "metadata": {
        "id": "l-D7GqC379L1",
        "colab": {
          "base_uri": "https://localhost:8080/"
        },
        "outputId": "4a86b987-6832-4769-87f5-f7a617cd9110"
      },
      "source": [
        "score = model.evaluate(X_test, y_test)\n",
        "\n",
        "print('Test loss:', score[0])\n",
        "print('Test accuracy:', score[1])"
      ],
      "execution_count": null,
      "outputs": [
        {
          "output_type": "stream",
          "text": [
            "246/246 [==============================] - 4s 14ms/step - loss: 0.1801 - categorical_accuracy: 0.9531\n",
            "Test loss: 0.18011680245399475\n",
            "Test accuracy: 0.9530732035636902\n"
          ],
          "name": "stdout"
        }
      ]
    },
    {
      "cell_type": "code",
      "metadata": {
        "id": "06y4FSgE8MwJ",
        "colab": {
          "base_uri": "https://localhost:8080/",
          "height": 295
        },
        "outputId": "7afdf434-01a2-4c97-c656-880ce65976d0"
      },
      "source": [
        "import matplotlib.pyplot as plt\n",
        "plt.subplot(1,2,1)\n",
        "plt.plot(hist.history['categorical_accuracy'])\n",
        "plt.plot(hist.history['val_categorical_accuracy'])\n",
        "plt.title('model accuracy')\n",
        "plt.ylabel('accuracy')\n",
        "plt.xlabel('epoch')\n",
        "plt.legend(['train', 'test'], loc='lower right')\n",
        "\n",
        "plt.subplot(1,2,2)\n",
        "plt.plot(hist.history['loss'])\n",
        "plt.plot(hist.history['val_loss'])\n",
        "plt.title('model loss')\n",
        "plt.ylabel('loss')\n",
        "plt.xlabel('epoch')\n",
        "plt.legend(['train', 'test'], loc='upper right')\n",
        "\n",
        "plt.show()"
      ],
      "execution_count": null,
      "outputs": [
        {
          "output_type": "display_data",
          "data": {
            "image/png": "[encoded data removed]",
            "text/plain": [
              "<Figure size 432x288 with 2 Axes>"
            ]
          },
          "metadata": {
            "tags": [],
            "needs_background": "light"
          }
        }
      ]
    }
  ]
}